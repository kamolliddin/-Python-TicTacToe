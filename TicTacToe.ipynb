{
 "cells": [
  {
   "cell_type": "markdown",
   "metadata": {},
   "source": [
    "# Milestone Project : Tic Tac Toe\n",
    "\n",
    "Tic Tac Toe Milestone Project game!"
   ]
  },
  {
   "cell_type": "markdown",
   "metadata": {},
   "source": [
    "**Function that can prints out a board. Board as a list, where each index 1-9 corresponds with a number on a number pad, so we get a 3 by 3 board representation.**"
   ]
  },
  {
   "cell_type": "code",
   "execution_count": 15,
   "metadata": {},
   "outputs": [],
   "source": [
    "from IPython.display import clear_output\n",
    "\n",
    "def display_board(board):\n",
    "    \n",
    "    print('{0:^3}|{0:^3}|{0:^3}'.format(\" \"))\n",
    "    print('{0:^3}|{1:^3}|{2:^3}'.format(board[8], board[7], board[6]))\n",
    "    print('{0:^3}|{0:^3}|{0:^3}'.format(\" \"))\n",
    "    print('-----------')\n",
    "    print('{0:^3}|{0:^3}|{0:^3}'.format(\" \"))\n",
    "    print('{0:^3}|{1:^3}|{2:^3}'.format(board[5], board[4], board[3]))\n",
    "    print('{0:^3}|{0:^3}|{0:^3}'.format(\" \"))\n",
    "    print('-----------')\n",
    "    print('{0:^3}|{0:^3}|{0:^3}'.format(\" \"))\n",
    "    print('{0:^3}|{1:^3}|{2:^3}'.format(board[2], board[1], board[0]))\n",
    "    print('{0:^3}|{0:^3}|{0:^3}'.format(\" \"))"
   ]
  },
  {
   "cell_type": "markdown",
   "metadata": {},
   "source": [
    "**Function that can take in a player input and assign their marker as 'X' or 'O'**"
   ]
  },
  {
   "cell_type": "code",
   "execution_count": 16,
   "metadata": {},
   "outputs": [],
   "source": [
    "def player_input():\n",
    "    player1 = input(\"Please pick a marker 'X' or 'O' : \").upper()\n",
    "    if player1 == \"X\":\n",
    "        player2 = \"O\"\n",
    "    else:\n",
    "        player2 = \"X\"\n",
    "        \n",
    "    return (player1, player2)"
   ]
  },
  {
   "cell_type": "markdown",
   "metadata": {},
   "source": [
    "**Function that takes in the board list object, a marker ('X' or 'O'), and a desired position (number 1-9) and assigns it to the board**"
   ]
  },
  {
   "cell_type": "code",
   "execution_count": 17,
   "metadata": {},
   "outputs": [],
   "source": [
    "def place_marker(board, marker, position):\n",
    "    board[position-1] = marker"
   ]
  },
  {
   "cell_type": "markdown",
   "metadata": {},
   "source": [
    "**Function that takes in a board and a mark (X or O) and then checks to see if that mark has won**"
   ]
  },
  {
   "cell_type": "code",
   "execution_count": 18,
   "metadata": {},
   "outputs": [],
   "source": [
    "def win_check(board, mark):\n",
    "    hasWon = False\n",
    "    \n",
    "    ## Horizontal check\n",
    "    if board[6:9] == [mark,mark,mark]:\n",
    "        hasWon = True\n",
    "    elif board[3:6] == [mark,mark,mark]:\n",
    "        hasWon = True\n",
    "    elif board[0:3] == [mark,mark,mark]:\n",
    "        hasWon = True\n",
    "    ## Vertical check\n",
    "    elif board[0:7:3] == [mark,mark,mark]:\n",
    "        hasWon = True\n",
    "    elif board[1:8:3] == [mark,mark,mark]:\n",
    "        hasWon = True\n",
    "    elif board[2:9:3] == [mark,mark,mark]:\n",
    "        hasWon = True\n",
    "    ## Diagonal check\n",
    "    elif board[0:9:4] == [mark,mark,mark]:\n",
    "        hasWon = True\n",
    "    elif board[2:7:2] == [mark,mark,mark]:\n",
    "        hasWon = True\n",
    "\n",
    "    return hasWon\n",
    "    \n",
    "    "
   ]
  },
  {
   "cell_type": "markdown",
   "metadata": {},
   "source": [
    "**Function that uses the random module to randomly decide which player goes first**"
   ]
  },
  {
   "cell_type": "code",
   "execution_count": 19,
   "metadata": {},
   "outputs": [],
   "source": [
    "import random\n",
    "\n",
    "def choose_first():\n",
    "    first = random.randint(0, 1)\n",
    "    first_player = 'X' if first == 1 else 'O'\n",
    "    return first_player "
   ]
  },
  {
   "cell_type": "markdown",
   "metadata": {},
   "source": [
    "**Function that returns a boolean indicating whether a space on the board is freely available**"
   ]
  },
  {
   "cell_type": "code",
   "execution_count": 20,
   "metadata": {},
   "outputs": [],
   "source": [
    "def space_check(board, position):\n",
    "    if board[position-1] == \"\":\n",
    "        return True\n",
    "    else:\n",
    "        return False"
   ]
  },
  {
   "cell_type": "markdown",
   "metadata": {},
   "source": [
    "**Function that checks if the board is full and returns a boolean value. True if full, False otherwise**"
   ]
  },
  {
   "cell_type": "code",
   "execution_count": 7,
   "metadata": {},
   "outputs": [],
   "source": [
    "def full_board_check(board):\n",
    "    if \"\" in board:\n",
    "        return False\n",
    "    else:\n",
    "        return True"
   ]
  },
  {
   "cell_type": "markdown",
   "metadata": {},
   "source": [
    "**Function that asks for a player's next position (as a number 1-9) and then uses the function SPACE_CHECK to check if it's a free position. If it is, then returns the position for later use**"
   ]
  },
  {
   "cell_type": "code",
   "execution_count": 21,
   "metadata": {},
   "outputs": [],
   "source": [
    "def player_choice(board):\n",
    "    position = int(input('Please enter a number (1-9): '))\n",
    "    if position <= 9 and position >=1:\n",
    "        \n",
    "        if space_check(board, position):\n",
    "            return position\n",
    "        else:\n",
    "            print(\"Position is not free! Choose another: \")\n",
    "            return player_choice(board)\n",
    "            \n",
    "    else:\n",
    "        print(\"Please enter CORRECY number between 1 to 9: \")\n",
    "        return player_choice(board)"
   ]
  },
  {
   "cell_type": "markdown",
   "metadata": {},
   "source": [
    "**Function that asks the player if they want to play again and returns a boolean True if they do want to play again**"
   ]
  },
  {
   "cell_type": "code",
   "execution_count": 22,
   "metadata": {},
   "outputs": [],
   "source": [
    "def replay():\n",
    "    answer = input(\"Do you want to play again? (1-YES 0-NO): \")\n",
    "    if answer == '1':\n",
    "        return True\n",
    "    elif answer == '0':\n",
    "        return False\n",
    "    else:\n",
    "        print(\"Please enter 1 for YES or 0 for NO !!: \")\n",
    "        return replay()"
   ]
  },
  {
   "cell_type": "markdown",
   "metadata": {
    "collapsed": true
   },
   "source": [
    "**FINAL logic of game**"
   ]
  },
  {
   "cell_type": "code",
   "execution_count": null,
   "metadata": {},
   "outputs": [],
   "source": [
    "while True:\n",
    "    from IPython.display import clear_output\n",
    "    clear_output()\n",
    "    \n",
    "\n",
    "\n",
    "    \n",
    "    \n",
    "    board = ['','','','','','','','','']\n",
    "    player1, player2 = player_input()\n",
    "\n",
    "    print(\"Player 1: \", player1)\n",
    "    print(\"Player 2: \", player2)\n",
    "    \n",
    "    current_player = choose_first()\n",
    "\n",
    "    while True:\n",
    "        print(\"-\"*15)\n",
    "        print(\"Current player is \",current_player)\n",
    "        position = player_choice(board)\n",
    "        place_marker(board, current_player, position)\n",
    "        display_board(board) \n",
    "        if win_check(board, current_player):\n",
    "            print(f\"Player {current_player} has WON!!\")\n",
    "            break\n",
    "        if full_board_check(board):\n",
    "            print(\"Board is full! It is DRAW!\")\n",
    "            break\n",
    "        current_player = 'O' if current_player == 'X' else 'X'\n",
    "        \n",
    "\n",
    "    if not replay():\n",
    "        print(\"Thanks for playing !!\")\n",
    "        break"
   ]
  }
 ],
 "metadata": {
  "kernelspec": {
   "display_name": "Python 3",
   "language": "python",
   "name": "python3"
  },
  "language_info": {
   "codemirror_mode": {
    "name": "ipython",
    "version": 3
   },
   "file_extension": ".py",
   "mimetype": "text/x-python",
   "name": "python",
   "nbconvert_exporter": "python",
   "pygments_lexer": "ipython3",
   "version": "3.8.1"
  }
 },
 "nbformat": 4,
 "nbformat_minor": 1
}
